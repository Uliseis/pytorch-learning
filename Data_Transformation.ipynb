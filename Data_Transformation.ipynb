{
 "cells": [
  {
   "cell_type": "markdown",
   "id": "c8e5b1cb",
   "metadata": {},
   "source": [
    "# PyTorch Introduction: Chapter 4\n",
    "\n",
    "# Turning real world data into tensors"
   ]
  },
  {
   "cell_type": "markdown",
   "id": "9e97ebdb",
   "metadata": {},
   "source": [
    "## Image data transformation"
   ]
  },
  {
   "cell_type": "code",
   "execution_count": 3,
   "id": "028496d7",
   "metadata": {},
   "outputs": [
    {
     "data": {
      "text/plain": [
       "(720, 1280, 3)"
      ]
     },
     "execution_count": 3,
     "metadata": {},
     "output_type": "execute_result"
    }
   ],
   "source": [
    "import torch\n",
    "import imageio\n",
    "\n",
    "img_arr = imageio.imread(\"/Users/ulises/Desktop/WORK_PERSONAL/Jupyter_Notebooks/img/pretrained_c2/bobby.jpeg\")\n",
    "img_arr.shape"
   ]
  },
  {
   "cell_type": "markdown",
   "id": "80a70ea7",
   "metadata": {},
   "source": [
    "#### Now, img_arr is a NumPy array with 3 dimensions (height, width, rgb). Tensors need to be C x H x W, so we need to do a permutation."
   ]
  },
  {
   "cell_type": "code",
   "execution_count": 4,
   "id": "b05710c0",
   "metadata": {},
   "outputs": [],
   "source": [
    "img = torch.from_numpy(img_arr)\n",
    "out = img.permute(2,0,1)"
   ]
  },
  {
   "cell_type": "markdown",
   "id": "03654992",
   "metadata": {},
   "source": [
    "#### Let's now load a batch of images, with array N x C x H x W"
   ]
  },
  {
   "cell_type": "code",
   "execution_count": 5,
   "id": "ff1889eb",
   "metadata": {},
   "outputs": [],
   "source": [
    "batch_size = 3\n",
    "batch = torch.zeros(batch_size, 3, 256, 256, dtype=torch.uint8)\n",
    "\n",
    "import os\n",
    "\n",
    "data_dir = \"/Users/ulises/Desktop/WORK_PERSONAL/Jupyter_Notebooks/img/image_cats\"\n",
    "filenames = [name for name in os.listdir(data_dir)\n",
    "            if os.path.splitext(name)[-1] == \".png\"]\n",
    "\n",
    "for i, filename in enumerate(filenames):\n",
    "    img_arr = imageio.imread(os.path.join(data_dir, filename))\n",
    "    img_t = torch.from_numpy(img_arr)\n",
    "    img_t = img_t.permute(2,0,1)\n",
    "    img_t = img_t[:3] # We only keep 3 channels, just if it had more of them\n",
    "    batch[i] = img_t"
   ]
  },
  {
   "cell_type": "markdown",
   "id": "bfe34886",
   "metadata": {},
   "source": [
    "### Normalizing the data"
   ]
  },
  {
   "cell_type": "markdown",
   "id": "8d673550",
   "metadata": {},
   "source": [
    "#### Neural networks exhibit the best training performance when the input data ranges roughly from 0 to 1, or from -1 to 1, so we have some options to normalize the data to these values.\n",
    "\n",
    "#### First option is to divide by 255 (maximum representation in uint8)"
   ]
  },
  {
   "cell_type": "code",
   "execution_count": 6,
   "id": "cac9730c",
   "metadata": {},
   "outputs": [],
   "source": [
    "batch = batch.float()\n",
    "batch /= 255"
   ]
  },
  {
   "cell_type": "markdown",
   "id": "bebc7402",
   "metadata": {},
   "source": [
    "#### Another possibility is to compute the mean and standard deviation of the input data and scale it so that the output has zero mean and unit standard deviation across each channel."
   ]
  },
  {
   "cell_type": "code",
   "execution_count": 9,
   "id": "60dcd719",
   "metadata": {},
   "outputs": [],
   "source": [
    "n_channels = batch.shape[1]\n",
    "\n",
    "for c in range (n_channels) :\n",
    "    mean = torch.mean(batch[:, c])\n",
    "    std = torch.std(batch[:, c])\n",
    "    batch[:, c] = (batch[:, c] - mean) / std"
   ]
  },
  {
   "cell_type": "code",
   "execution_count": null,
   "id": "768e63a2",
   "metadata": {},
   "outputs": [],
   "source": []
  }
 ],
 "metadata": {
  "kernelspec": {
   "display_name": "Python 3 (ipykernel)",
   "language": "python",
   "name": "python3"
  },
  "language_info": {
   "codemirror_mode": {
    "name": "ipython",
    "version": 3
   },
   "file_extension": ".py",
   "mimetype": "text/x-python",
   "name": "python",
   "nbconvert_exporter": "python",
   "pygments_lexer": "ipython3",
   "version": "3.9.7"
  }
 },
 "nbformat": 4,
 "nbformat_minor": 5
}
